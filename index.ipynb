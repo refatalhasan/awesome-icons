{
 "cells": [
  {
   "cell_type": "code",
   "execution_count": null,
   "id": "929e2087",
   "metadata": {},
   "outputs": [],
   "source": [
    "# Demo code: Print \"Hello, Jupyter!\"\n",
    "print(\"Hello, Jupyter!\")"
   ]
  }
 ],
 "metadata": {
  "language_info": {
   "name": "python"
  }
 },
 "nbformat": 4,
 "nbformat_minor": 5
}
